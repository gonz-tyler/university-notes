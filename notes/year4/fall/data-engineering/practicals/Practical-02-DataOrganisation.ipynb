{
 "cells": [
  {
   "cell_type": "markdown",
   "id": "c0132437",
   "metadata": {},
   "source": [
    "## Data organisation\n",
    "In this tutorial we will look at loading data using Python packages"
   ]
  },
  {
   "cell_type": "markdown",
   "id": "9251dc65",
   "metadata": {},
   "source": [
    "#### Reading and writing data in text format\n",
    "\n",
    "Pandas is a good package to read and write tabular data as a DataFrame object.\n",
    "\n",
    "read_csv: Load delimited data from a file, URL, or file-like object; use comma as default delimiter\n",
    "\n",
    "read_fwf: Read data in fixed-width column format (i.e., no delimiters)\n",
    "\n",
    "read_clipboard: Variation of read_csv that reads data from the clipboard; useful for converting tables from web\n",
    "pages\n",
    "\n",
    "read_excel: Read tabular data from an Excel XLS or XLSX file\n",
    "\n",
    "read_hdf: Read HDF5 files written by pandas\n",
    "\n",
    "read_html: Read all tables found in the given HTML document\n",
    "\n",
    "read_json: Read data from a JSON (JavaScript Object Notation) string \n",
    "representation, file, URL, or file-like object\n",
    "\n",
    "read_feather: Read the Feather binary file format\n",
    "\n",
    "read_orc: Read the Apache ORC binary file format\n",
    "\n",
    "read_parquet: Read the Apache Parquet binary file format\n",
    "\n",
    "read_pickle: Read an object stored by pandas using the Python pickle format\n",
    "\n",
    "read_sas: Read a SAS dataset stored in one of the SAS system’s custom storage formats\n",
    "\n",
    "read_spss: Read a data file created by SPSS\n",
    "\n",
    "read_sql: Read the results of a SQL query (using SQLAlchemy)\n",
    "\n",
    "read_sql_table: Read a whole SQL table (using SQLAlchemy); equivalent to using a query that selects everything in\n",
    "that table using read_sql\n",
    "\n",
    "read_stata: Read a dataset from Stata file format\n",
    "\n",
    "read_xml: Read a table of data from an XML file"
   ]
  },
  {
   "cell_type": "markdown",
   "id": "87d99ba4",
   "metadata": {},
   "source": [
    "There are optional arguments for these functions, which may fall into the following categories:\n",
    "\n",
    "Indexing:\n",
    "Can treat one or more columns as the returned DataFrame, and whether to get column names from the file, arguments you provide, or not at all.\n",
    "\n",
    "Type inference and data conversion:\n",
    "Includes the user-defined value conversions and custom list of missing value markers.\n",
    "\n",
    "Date and time parsing:\n",
    "Includes a combining capability, including combining date and time information spread over multiple columns into a single column in the result.\n",
    "\n",
    "Iterating:\n",
    "Support for iterating over chunks of very large files.\n",
    "\n",
    "Unclean data issues:\n",
    "Includes skipping rows or a footer, comments, or other minor things like numeric data with thousands separated by commas.\n",
    "\n",
    "Some functions may have a lot of arguments. Pandas documentation has many examples showing how each of them could be used."
   ]
  },
  {
   "cell_type": "code",
   "execution_count": 1,
   "id": "f0edd8d3",
   "metadata": {},
   "outputs": [],
   "source": [
    "import pandas as pd"
   ]
  },
  {
   "cell_type": "code",
   "execution_count": 2,
   "id": "035b4ce3",
   "metadata": {},
   "outputs": [
    {
     "data": {
      "text/html": [
       "<div>\n",
       "<style scoped>\n",
       "    .dataframe tbody tr th:only-of-type {\n",
       "        vertical-align: middle;\n",
       "    }\n",
       "\n",
       "    .dataframe tbody tr th {\n",
       "        vertical-align: top;\n",
       "    }\n",
       "\n",
       "    .dataframe thead th {\n",
       "        text-align: right;\n",
       "    }\n",
       "</style>\n",
       "<table border=\"1\" class=\"dataframe\">\n",
       "  <thead>\n",
       "    <tr style=\"text-align: right;\">\n",
       "      <th></th>\n",
       "      <th>c1</th>\n",
       "      <th>c2</th>\n",
       "      <th>c3</th>\n",
       "      <th>c4</th>\n",
       "      <th>message</th>\n",
       "    </tr>\n",
       "  </thead>\n",
       "  <tbody>\n",
       "    <tr>\n",
       "      <th>0</th>\n",
       "      <td>1</td>\n",
       "      <td>2</td>\n",
       "      <td>3</td>\n",
       "      <td>4</td>\n",
       "      <td>hello</td>\n",
       "    </tr>\n",
       "    <tr>\n",
       "      <th>1</th>\n",
       "      <td>5</td>\n",
       "      <td>6</td>\n",
       "      <td>7</td>\n",
       "      <td>8</td>\n",
       "      <td>world</td>\n",
       "    </tr>\n",
       "    <tr>\n",
       "      <th>2</th>\n",
       "      <td>9</td>\n",
       "      <td>10</td>\n",
       "      <td>11</td>\n",
       "      <td>12</td>\n",
       "      <td>hi</td>\n",
       "    </tr>\n",
       "  </tbody>\n",
       "</table>\n",
       "</div>"
      ],
      "text/plain": [
       "   c1  c2  c3  c4 message\n",
       "0   1   2   3   4   hello\n",
       "1   5   6   7   8   world\n",
       "2   9  10  11  12      hi"
      ]
     },
     "execution_count": 2,
     "metadata": {},
     "output_type": "execute_result"
    }
   ],
   "source": [
    "## the first example: read a comma-delimeted csv file\n",
    "\n",
    "df = pd.read_csv(\"ex1.csv\")\n",
    "df"
   ]
  },
  {
   "cell_type": "code",
   "execution_count": 3,
   "id": "60113019",
   "metadata": {},
   "outputs": [
    {
     "data": {
      "text/html": [
       "<div>\n",
       "<style scoped>\n",
       "    .dataframe tbody tr th:only-of-type {\n",
       "        vertical-align: middle;\n",
       "    }\n",
       "\n",
       "    .dataframe tbody tr th {\n",
       "        vertical-align: top;\n",
       "    }\n",
       "\n",
       "    .dataframe thead th {\n",
       "        text-align: right;\n",
       "    }\n",
       "</style>\n",
       "<table border=\"1\" class=\"dataframe\">\n",
       "  <thead>\n",
       "    <tr style=\"text-align: right;\">\n",
       "      <th></th>\n",
       "      <th>1</th>\n",
       "      <th>2</th>\n",
       "      <th>3</th>\n",
       "      <th>4</th>\n",
       "      <th>hello</th>\n",
       "    </tr>\n",
       "  </thead>\n",
       "  <tbody>\n",
       "    <tr>\n",
       "      <th>0</th>\n",
       "      <td>5</td>\n",
       "      <td>6</td>\n",
       "      <td>7</td>\n",
       "      <td>8</td>\n",
       "      <td>world</td>\n",
       "    </tr>\n",
       "    <tr>\n",
       "      <th>1</th>\n",
       "      <td>9</td>\n",
       "      <td>10</td>\n",
       "      <td>11</td>\n",
       "      <td>12</td>\n",
       "      <td>hi</td>\n",
       "    </tr>\n",
       "  </tbody>\n",
       "</table>\n",
       "</div>"
      ],
      "text/plain": [
       "   1   2   3   4  hello\n",
       "0  5   6   7   8  world\n",
       "1  9  10  11  12     hi"
      ]
     },
     "execution_count": 3,
     "metadata": {},
     "output_type": "execute_result"
    }
   ],
   "source": [
    "## pandas.read_csv treat the first row as the header row.\n",
    "df = pd.read_csv(\"ex2.csv\")\n",
    "df"
   ]
  },
  {
   "cell_type": "code",
   "execution_count": 4,
   "id": "474d0088",
   "metadata": {},
   "outputs": [
    {
     "data": {
      "text/html": [
       "<div>\n",
       "<style scoped>\n",
       "    .dataframe tbody tr th:only-of-type {\n",
       "        vertical-align: middle;\n",
       "    }\n",
       "\n",
       "    .dataframe tbody tr th {\n",
       "        vertical-align: top;\n",
       "    }\n",
       "\n",
       "    .dataframe thead th {\n",
       "        text-align: right;\n",
       "    }\n",
       "</style>\n",
       "<table border=\"1\" class=\"dataframe\">\n",
       "  <thead>\n",
       "    <tr style=\"text-align: right;\">\n",
       "      <th></th>\n",
       "      <th>0</th>\n",
       "      <th>1</th>\n",
       "      <th>2</th>\n",
       "      <th>3</th>\n",
       "      <th>4</th>\n",
       "    </tr>\n",
       "  </thead>\n",
       "  <tbody>\n",
       "    <tr>\n",
       "      <th>0</th>\n",
       "      <td>1</td>\n",
       "      <td>2</td>\n",
       "      <td>3</td>\n",
       "      <td>4</td>\n",
       "      <td>hello</td>\n",
       "    </tr>\n",
       "    <tr>\n",
       "      <th>1</th>\n",
       "      <td>5</td>\n",
       "      <td>6</td>\n",
       "      <td>7</td>\n",
       "      <td>8</td>\n",
       "      <td>world</td>\n",
       "    </tr>\n",
       "    <tr>\n",
       "      <th>2</th>\n",
       "      <td>9</td>\n",
       "      <td>10</td>\n",
       "      <td>11</td>\n",
       "      <td>12</td>\n",
       "      <td>hi</td>\n",
       "    </tr>\n",
       "  </tbody>\n",
       "</table>\n",
       "</div>"
      ],
      "text/plain": [
       "   0   1   2   3      4\n",
       "0  1   2   3   4  hello\n",
       "1  5   6   7   8  world\n",
       "2  9  10  11  12     hi"
      ]
     },
     "execution_count": 4,
     "metadata": {},
     "output_type": "execute_result"
    }
   ],
   "source": [
    "## this example shows a default header row\n",
    "df = pd.read_csv(\"ex2.csv\", header = None)\n",
    "df"
   ]
  },
  {
   "cell_type": "code",
   "execution_count": 5,
   "id": "f4d7286a",
   "metadata": {},
   "outputs": [
    {
     "data": {
      "text/html": [
       "<div>\n",
       "<style scoped>\n",
       "    .dataframe tbody tr th:only-of-type {\n",
       "        vertical-align: middle;\n",
       "    }\n",
       "\n",
       "    .dataframe tbody tr th {\n",
       "        vertical-align: top;\n",
       "    }\n",
       "\n",
       "    .dataframe thead th {\n",
       "        text-align: right;\n",
       "    }\n",
       "</style>\n",
       "<table border=\"1\" class=\"dataframe\">\n",
       "  <thead>\n",
       "    <tr style=\"text-align: right;\">\n",
       "      <th></th>\n",
       "      <th>a</th>\n",
       "      <th>b</th>\n",
       "      <th>c</th>\n",
       "      <th>d</th>\n",
       "      <th>message</th>\n",
       "    </tr>\n",
       "  </thead>\n",
       "  <tbody>\n",
       "    <tr>\n",
       "      <th>0</th>\n",
       "      <td>1</td>\n",
       "      <td>2</td>\n",
       "      <td>3</td>\n",
       "      <td>4</td>\n",
       "      <td>hello</td>\n",
       "    </tr>\n",
       "    <tr>\n",
       "      <th>1</th>\n",
       "      <td>5</td>\n",
       "      <td>6</td>\n",
       "      <td>7</td>\n",
       "      <td>8</td>\n",
       "      <td>world</td>\n",
       "    </tr>\n",
       "    <tr>\n",
       "      <th>2</th>\n",
       "      <td>9</td>\n",
       "      <td>10</td>\n",
       "      <td>11</td>\n",
       "      <td>12</td>\n",
       "      <td>hi</td>\n",
       "    </tr>\n",
       "  </tbody>\n",
       "</table>\n",
       "</div>"
      ],
      "text/plain": [
       "   a   b   c   d message\n",
       "0  1   2   3   4   hello\n",
       "1  5   6   7   8   world\n",
       "2  9  10  11  12      hi"
      ]
     },
     "execution_count": 5,
     "metadata": {},
     "output_type": "execute_result"
    }
   ],
   "source": [
    "## the header can be assigned explicitly\n",
    "df = pd.read_csv(\"ex2.csv\", names=[\"a\", \"b\", \"c\", \"d\", \"message\"])\n",
    "df"
   ]
  },
  {
   "cell_type": "code",
   "execution_count": 6,
   "id": "09ebf374",
   "metadata": {},
   "outputs": [
    {
     "data": {
      "text/html": [
       "<div>\n",
       "<style scoped>\n",
       "    .dataframe tbody tr th:only-of-type {\n",
       "        vertical-align: middle;\n",
       "    }\n",
       "\n",
       "    .dataframe tbody tr th {\n",
       "        vertical-align: top;\n",
       "    }\n",
       "\n",
       "    .dataframe thead th {\n",
       "        text-align: right;\n",
       "    }\n",
       "</style>\n",
       "<table border=\"1\" class=\"dataframe\">\n",
       "  <thead>\n",
       "    <tr style=\"text-align: right;\">\n",
       "      <th></th>\n",
       "      <th>a</th>\n",
       "      <th>b</th>\n",
       "      <th>c</th>\n",
       "      <th>d</th>\n",
       "    </tr>\n",
       "    <tr>\n",
       "      <th>message</th>\n",
       "      <th></th>\n",
       "      <th></th>\n",
       "      <th></th>\n",
       "      <th></th>\n",
       "    </tr>\n",
       "  </thead>\n",
       "  <tbody>\n",
       "    <tr>\n",
       "      <th>hello</th>\n",
       "      <td>1</td>\n",
       "      <td>2</td>\n",
       "      <td>3</td>\n",
       "      <td>4</td>\n",
       "    </tr>\n",
       "    <tr>\n",
       "      <th>world</th>\n",
       "      <td>5</td>\n",
       "      <td>6</td>\n",
       "      <td>7</td>\n",
       "      <td>8</td>\n",
       "    </tr>\n",
       "    <tr>\n",
       "      <th>hi</th>\n",
       "      <td>9</td>\n",
       "      <td>10</td>\n",
       "      <td>11</td>\n",
       "      <td>12</td>\n",
       "    </tr>\n",
       "  </tbody>\n",
       "</table>\n",
       "</div>"
      ],
      "text/plain": [
       "         a   b   c   d\n",
       "message               \n",
       "hello    1   2   3   4\n",
       "world    5   6   7   8\n",
       "hi       9  10  11  12"
      ]
     },
     "execution_count": 6,
     "metadata": {},
     "output_type": "execute_result"
    }
   ],
   "source": [
    "## The following examples shows that \"message\" is used as the index of the returned dataframe.\n",
    "names = [\"a\", \"b\", \"c\", \"d\", \"message\"]\n",
    "df = pd.read_csv(\"ex2.csv\", names=names, index_col=\"message\")\n",
    "df"
   ]
  },
  {
   "cell_type": "code",
   "execution_count": 7,
   "id": "8fea7567",
   "metadata": {},
   "outputs": [
    {
     "data": {
      "text/html": [
       "<div>\n",
       "<style scoped>\n",
       "    .dataframe tbody tr th:only-of-type {\n",
       "        vertical-align: middle;\n",
       "    }\n",
       "\n",
       "    .dataframe tbody tr th {\n",
       "        vertical-align: top;\n",
       "    }\n",
       "\n",
       "    .dataframe thead th {\n",
       "        text-align: right;\n",
       "    }\n",
       "</style>\n",
       "<table border=\"1\" class=\"dataframe\">\n",
       "  <thead>\n",
       "    <tr style=\"text-align: right;\">\n",
       "      <th></th>\n",
       "      <th></th>\n",
       "      <th>value1</th>\n",
       "      <th>value2</th>\n",
       "    </tr>\n",
       "    <tr>\n",
       "      <th>key1</th>\n",
       "      <th>key2</th>\n",
       "      <th></th>\n",
       "      <th></th>\n",
       "    </tr>\n",
       "  </thead>\n",
       "  <tbody>\n",
       "    <tr>\n",
       "      <th rowspan=\"4\" valign=\"top\">one</th>\n",
       "      <th>a</th>\n",
       "      <td>1</td>\n",
       "      <td>2</td>\n",
       "    </tr>\n",
       "    <tr>\n",
       "      <th>b</th>\n",
       "      <td>3</td>\n",
       "      <td>4</td>\n",
       "    </tr>\n",
       "    <tr>\n",
       "      <th>c</th>\n",
       "      <td>5</td>\n",
       "      <td>6</td>\n",
       "    </tr>\n",
       "    <tr>\n",
       "      <th>d</th>\n",
       "      <td>7</td>\n",
       "      <td>8</td>\n",
       "    </tr>\n",
       "    <tr>\n",
       "      <th rowspan=\"4\" valign=\"top\">two</th>\n",
       "      <th>a</th>\n",
       "      <td>9</td>\n",
       "      <td>10</td>\n",
       "    </tr>\n",
       "    <tr>\n",
       "      <th>b</th>\n",
       "      <td>11</td>\n",
       "      <td>12</td>\n",
       "    </tr>\n",
       "    <tr>\n",
       "      <th>c</th>\n",
       "      <td>13</td>\n",
       "      <td>14</td>\n",
       "    </tr>\n",
       "    <tr>\n",
       "      <th>d</th>\n",
       "      <td>15</td>\n",
       "      <td>16</td>\n",
       "    </tr>\n",
       "  </tbody>\n",
       "</table>\n",
       "</div>"
      ],
      "text/plain": [
       "           value1  value2\n",
       "key1 key2                \n",
       "one  a          1       2\n",
       "     b          3       4\n",
       "     c          5       6\n",
       "     d          7       8\n",
       "two  a          9      10\n",
       "     b         11      12\n",
       "     c         13      14\n",
       "     d         15      16"
      ]
     },
     "execution_count": 7,
     "metadata": {},
     "output_type": "execute_result"
    }
   ],
   "source": [
    "## If the data has a hierarchical index from multiple columns, \n",
    "## this can be parsed by the following method\n",
    "parsed = pd.read_csv(\"ex3_multiple_index.csv\",index_col=[\"key1\",\"key2\"])\n",
    "parsed"
   ]
  },
  {
   "cell_type": "code",
   "execution_count": 8,
   "id": "4562a5a4",
   "metadata": {},
   "outputs": [
    {
     "name": "stderr",
     "output_type": "stream",
     "text": [
      "<>:7: SyntaxWarning: invalid escape sequence '\\s'\n",
      "<>:7: SyntaxWarning: invalid escape sequence '\\s'\n",
      "/tmp/ipykernel_5070/807874723.py:7: SyntaxWarning: invalid escape sequence '\\s'\n",
      "  df = pd.read_csv(\"ex4.txt\", sep=\"\\s+\")\n"
     ]
    },
    {
     "data": {
      "text/html": [
       "<div>\n",
       "<style scoped>\n",
       "    .dataframe tbody tr th:only-of-type {\n",
       "        vertical-align: middle;\n",
       "    }\n",
       "\n",
       "    .dataframe tbody tr th {\n",
       "        vertical-align: top;\n",
       "    }\n",
       "\n",
       "    .dataframe thead th {\n",
       "        text-align: right;\n",
       "    }\n",
       "</style>\n",
       "<table border=\"1\" class=\"dataframe\">\n",
       "  <thead>\n",
       "    <tr style=\"text-align: right;\">\n",
       "      <th></th>\n",
       "      <th>A</th>\n",
       "      <th>B</th>\n",
       "      <th>C</th>\n",
       "    </tr>\n",
       "  </thead>\n",
       "  <tbody>\n",
       "    <tr>\n",
       "      <th>aaa</th>\n",
       "      <td>-0.264438</td>\n",
       "      <td>-1.026059</td>\n",
       "      <td>-0.619500</td>\n",
       "    </tr>\n",
       "    <tr>\n",
       "      <th>bbb</th>\n",
       "      <td>0.927272</td>\n",
       "      <td>0.302904</td>\n",
       "      <td>-0.032399</td>\n",
       "    </tr>\n",
       "    <tr>\n",
       "      <th>ccc</th>\n",
       "      <td>-0.264273</td>\n",
       "      <td>-0.386314</td>\n",
       "      <td>-0.217601</td>\n",
       "    </tr>\n",
       "    <tr>\n",
       "      <th>ddd</th>\n",
       "      <td>-0.871858</td>\n",
       "      <td>-0.348382</td>\n",
       "      <td>1.100491</td>\n",
       "    </tr>\n",
       "  </tbody>\n",
       "</table>\n",
       "</div>"
      ],
      "text/plain": [
       "            A         B         C\n",
       "aaa -0.264438 -1.026059 -0.619500\n",
       "bbb  0.927272  0.302904 -0.032399\n",
       "ccc -0.264273 -0.386314 -0.217601\n",
       "ddd -0.871858 -0.348382  1.100491"
      ]
     },
     "execution_count": 8,
     "metadata": {},
     "output_type": "execute_result"
    }
   ],
   "source": [
    "## Sometime a table might not have a fixed delimiter. There might\n",
    "## be whitespace or some of other patterns to separte fields.\n",
    "## A regular expression can be used \" sep=\"\\s+\" \".\n",
    "## In this example, there was one fewer column name than the number of \n",
    "## data rows, pandas.read_csv infers that the first column should be the \n",
    "## index in this special case.\n",
    "df = pd.read_csv(\"ex4.txt\", sep=\"\\s+\")\n",
    "df"
   ]
  },
  {
   "cell_type": "code",
   "execution_count": 9,
   "id": "d9f04204",
   "metadata": {},
   "outputs": [
    {
     "data": {
      "text/html": [
       "<div>\n",
       "<style scoped>\n",
       "    .dataframe tbody tr th:only-of-type {\n",
       "        vertical-align: middle;\n",
       "    }\n",
       "\n",
       "    .dataframe tbody tr th {\n",
       "        vertical-align: top;\n",
       "    }\n",
       "\n",
       "    .dataframe thead th {\n",
       "        text-align: right;\n",
       "    }\n",
       "</style>\n",
       "<table border=\"1\" class=\"dataframe\">\n",
       "  <thead>\n",
       "    <tr style=\"text-align: right;\">\n",
       "      <th></th>\n",
       "      <th>a</th>\n",
       "      <th>b</th>\n",
       "      <th>c</th>\n",
       "      <th>d</th>\n",
       "      <th>message</th>\n",
       "    </tr>\n",
       "  </thead>\n",
       "  <tbody>\n",
       "    <tr>\n",
       "      <th>0</th>\n",
       "      <td>1</td>\n",
       "      <td>2</td>\n",
       "      <td>3</td>\n",
       "      <td>4</td>\n",
       "      <td>hello</td>\n",
       "    </tr>\n",
       "    <tr>\n",
       "      <th>1</th>\n",
       "      <td>5</td>\n",
       "      <td>6</td>\n",
       "      <td>7</td>\n",
       "      <td>8</td>\n",
       "      <td>world</td>\n",
       "    </tr>\n",
       "    <tr>\n",
       "      <th>2</th>\n",
       "      <td>9</td>\n",
       "      <td>10</td>\n",
       "      <td>11</td>\n",
       "      <td>12</td>\n",
       "      <td>foo</td>\n",
       "    </tr>\n",
       "  </tbody>\n",
       "</table>\n",
       "</div>"
      ],
      "text/plain": [
       "   a   b   c   d message\n",
       "0  1   2   3   4   hello\n",
       "1  5   6   7   8   world\n",
       "2  9  10  11  12     foo"
      ]
     },
     "execution_count": 9,
     "metadata": {},
     "output_type": "execute_result"
    }
   ],
   "source": [
    "## In this example, some rows can be skipped as they are comments\n",
    "## in the file\n",
    "df = pd.read_csv(\"ex5.txt\", skiprows=[0, 2, 3])\n",
    "df"
   ]
  },
  {
   "cell_type": "markdown",
   "id": "f56644de",
   "metadata": {},
   "source": [
    "### Reading text files in pieces\n",
    "When the data file is large, it is convenient to read only a small portion of the data in some scenario, or iteratively read a small chunck of the file"
   ]
  },
  {
   "cell_type": "code",
   "execution_count": 10,
   "id": "506518b2",
   "metadata": {},
   "outputs": [],
   "source": [
    "## Before working on a large file, the following code is to make \n",
    "## the pandas display settings more compact\n",
    "pd.options.display.max_rows = 10"
   ]
  },
  {
   "cell_type": "code",
   "execution_count": 11,
   "id": "9a2ba158",
   "metadata": {},
   "outputs": [
    {
     "data": {
      "text/html": [
       "<div>\n",
       "<style scoped>\n",
       "    .dataframe tbody tr th:only-of-type {\n",
       "        vertical-align: middle;\n",
       "    }\n",
       "\n",
       "    .dataframe tbody tr th {\n",
       "        vertical-align: top;\n",
       "    }\n",
       "\n",
       "    .dataframe thead th {\n",
       "        text-align: right;\n",
       "    }\n",
       "</style>\n",
       "<table border=\"1\" class=\"dataframe\">\n",
       "  <thead>\n",
       "    <tr style=\"text-align: right;\">\n",
       "      <th></th>\n",
       "      <th>age</th>\n",
       "      <th>sex</th>\n",
       "      <th>bmi</th>\n",
       "      <th>children</th>\n",
       "      <th>smoker</th>\n",
       "      <th>region</th>\n",
       "      <th>charges</th>\n",
       "    </tr>\n",
       "  </thead>\n",
       "  <tbody>\n",
       "    <tr>\n",
       "      <th>0</th>\n",
       "      <td>19</td>\n",
       "      <td>female</td>\n",
       "      <td>27.900</td>\n",
       "      <td>0</td>\n",
       "      <td>yes</td>\n",
       "      <td>southwest</td>\n",
       "      <td>16884.92400</td>\n",
       "    </tr>\n",
       "    <tr>\n",
       "      <th>1</th>\n",
       "      <td>18</td>\n",
       "      <td>male</td>\n",
       "      <td>33.770</td>\n",
       "      <td>1</td>\n",
       "      <td>no</td>\n",
       "      <td>southeast</td>\n",
       "      <td>1725.55230</td>\n",
       "    </tr>\n",
       "    <tr>\n",
       "      <th>2</th>\n",
       "      <td>28</td>\n",
       "      <td>male</td>\n",
       "      <td>33.000</td>\n",
       "      <td>3</td>\n",
       "      <td>no</td>\n",
       "      <td>southeast</td>\n",
       "      <td>4449.46200</td>\n",
       "    </tr>\n",
       "    <tr>\n",
       "      <th>3</th>\n",
       "      <td>33</td>\n",
       "      <td>male</td>\n",
       "      <td>22.705</td>\n",
       "      <td>0</td>\n",
       "      <td>no</td>\n",
       "      <td>northwest</td>\n",
       "      <td>21984.47061</td>\n",
       "    </tr>\n",
       "    <tr>\n",
       "      <th>4</th>\n",
       "      <td>32</td>\n",
       "      <td>male</td>\n",
       "      <td>28.880</td>\n",
       "      <td>0</td>\n",
       "      <td>no</td>\n",
       "      <td>northwest</td>\n",
       "      <td>3866.85520</td>\n",
       "    </tr>\n",
       "    <tr>\n",
       "      <th>...</th>\n",
       "      <td>...</td>\n",
       "      <td>...</td>\n",
       "      <td>...</td>\n",
       "      <td>...</td>\n",
       "      <td>...</td>\n",
       "      <td>...</td>\n",
       "      <td>...</td>\n",
       "    </tr>\n",
       "    <tr>\n",
       "      <th>1333</th>\n",
       "      <td>50</td>\n",
       "      <td>male</td>\n",
       "      <td>30.970</td>\n",
       "      <td>3</td>\n",
       "      <td>no</td>\n",
       "      <td>northwest</td>\n",
       "      <td>10600.54830</td>\n",
       "    </tr>\n",
       "    <tr>\n",
       "      <th>1334</th>\n",
       "      <td>18</td>\n",
       "      <td>female</td>\n",
       "      <td>31.920</td>\n",
       "      <td>0</td>\n",
       "      <td>no</td>\n",
       "      <td>northeast</td>\n",
       "      <td>2205.98080</td>\n",
       "    </tr>\n",
       "    <tr>\n",
       "      <th>1335</th>\n",
       "      <td>18</td>\n",
       "      <td>female</td>\n",
       "      <td>36.850</td>\n",
       "      <td>0</td>\n",
       "      <td>no</td>\n",
       "      <td>southeast</td>\n",
       "      <td>1629.83350</td>\n",
       "    </tr>\n",
       "    <tr>\n",
       "      <th>1336</th>\n",
       "      <td>21</td>\n",
       "      <td>female</td>\n",
       "      <td>25.800</td>\n",
       "      <td>0</td>\n",
       "      <td>no</td>\n",
       "      <td>southwest</td>\n",
       "      <td>2007.94500</td>\n",
       "    </tr>\n",
       "    <tr>\n",
       "      <th>1337</th>\n",
       "      <td>61</td>\n",
       "      <td>female</td>\n",
       "      <td>29.070</td>\n",
       "      <td>0</td>\n",
       "      <td>yes</td>\n",
       "      <td>northwest</td>\n",
       "      <td>29141.36030</td>\n",
       "    </tr>\n",
       "  </tbody>\n",
       "</table>\n",
       "<p>1338 rows × 7 columns</p>\n",
       "</div>"
      ],
      "text/plain": [
       "      age     sex     bmi  children smoker     region      charges\n",
       "0      19  female  27.900         0    yes  southwest  16884.92400\n",
       "1      18    male  33.770         1     no  southeast   1725.55230\n",
       "2      28    male  33.000         3     no  southeast   4449.46200\n",
       "3      33    male  22.705         0     no  northwest  21984.47061\n",
       "4      32    male  28.880         0     no  northwest   3866.85520\n",
       "...   ...     ...     ...       ...    ...        ...          ...\n",
       "1333   50    male  30.970         3     no  northwest  10600.54830\n",
       "1334   18  female  31.920         0     no  northeast   2205.98080\n",
       "1335   18  female  36.850         0     no  southeast   1629.83350\n",
       "1336   21  female  25.800         0     no  southwest   2007.94500\n",
       "1337   61  female  29.070         0    yes  northwest  29141.36030\n",
       "\n",
       "[1338 rows x 7 columns]"
      ]
     },
     "execution_count": 11,
     "metadata": {},
     "output_type": "execute_result"
    }
   ],
   "source": [
    "## So only ten rows are displayed, and others are omitted\n",
    "result = pd.read_csv(\"insurance.csv\")\n",
    "result"
   ]
  },
  {
   "cell_type": "code",
   "execution_count": 12,
   "id": "98d55207",
   "metadata": {},
   "outputs": [
    {
     "data": {
      "text/html": [
       "<div>\n",
       "<style scoped>\n",
       "    .dataframe tbody tr th:only-of-type {\n",
       "        vertical-align: middle;\n",
       "    }\n",
       "\n",
       "    .dataframe tbody tr th {\n",
       "        vertical-align: top;\n",
       "    }\n",
       "\n",
       "    .dataframe thead th {\n",
       "        text-align: right;\n",
       "    }\n",
       "</style>\n",
       "<table border=\"1\" class=\"dataframe\">\n",
       "  <thead>\n",
       "    <tr style=\"text-align: right;\">\n",
       "      <th></th>\n",
       "      <th>age</th>\n",
       "      <th>sex</th>\n",
       "      <th>bmi</th>\n",
       "      <th>children</th>\n",
       "      <th>smoker</th>\n",
       "      <th>region</th>\n",
       "      <th>charges</th>\n",
       "    </tr>\n",
       "  </thead>\n",
       "  <tbody>\n",
       "    <tr>\n",
       "      <th>0</th>\n",
       "      <td>19</td>\n",
       "      <td>female</td>\n",
       "      <td>27.900</td>\n",
       "      <td>0</td>\n",
       "      <td>yes</td>\n",
       "      <td>southwest</td>\n",
       "      <td>16884.92400</td>\n",
       "    </tr>\n",
       "    <tr>\n",
       "      <th>1</th>\n",
       "      <td>18</td>\n",
       "      <td>male</td>\n",
       "      <td>33.770</td>\n",
       "      <td>1</td>\n",
       "      <td>no</td>\n",
       "      <td>southeast</td>\n",
       "      <td>1725.55230</td>\n",
       "    </tr>\n",
       "    <tr>\n",
       "      <th>2</th>\n",
       "      <td>28</td>\n",
       "      <td>male</td>\n",
       "      <td>33.000</td>\n",
       "      <td>3</td>\n",
       "      <td>no</td>\n",
       "      <td>southeast</td>\n",
       "      <td>4449.46200</td>\n",
       "    </tr>\n",
       "    <tr>\n",
       "      <th>3</th>\n",
       "      <td>33</td>\n",
       "      <td>male</td>\n",
       "      <td>22.705</td>\n",
       "      <td>0</td>\n",
       "      <td>no</td>\n",
       "      <td>northwest</td>\n",
       "      <td>21984.47061</td>\n",
       "    </tr>\n",
       "    <tr>\n",
       "      <th>4</th>\n",
       "      <td>32</td>\n",
       "      <td>male</td>\n",
       "      <td>28.880</td>\n",
       "      <td>0</td>\n",
       "      <td>no</td>\n",
       "      <td>northwest</td>\n",
       "      <td>3866.85520</td>\n",
       "    </tr>\n",
       "  </tbody>\n",
       "</table>\n",
       "</div>"
      ],
      "text/plain": [
       "   age     sex     bmi  children smoker     region      charges\n",
       "0   19  female  27.900         0    yes  southwest  16884.92400\n",
       "1   18    male  33.770         1     no  southeast   1725.55230\n",
       "2   28    male  33.000         3     no  southeast   4449.46200\n",
       "3   33    male  22.705         0     no  northwest  21984.47061\n",
       "4   32    male  28.880         0     no  northwest   3866.85520"
      ]
     },
     "execution_count": 12,
     "metadata": {},
     "output_type": "execute_result"
    }
   ],
   "source": [
    "## If only a small number of rows are read, the following code\n",
    "## shows how to read only 5 rows\n",
    "pd.read_csv(\"insurance.csv\", nrows=5)"
   ]
  },
  {
   "cell_type": "code",
   "execution_count": 13,
   "id": "6d763b12",
   "metadata": {},
   "outputs": [
    {
     "data": {
      "text/plain": [
       "pandas.io.parsers.readers.TextFileReader"
      ]
     },
     "execution_count": 13,
     "metadata": {},
     "output_type": "execute_result"
    }
   ],
   "source": [
    "## To read a file in pieces, specify a chunksize as a number of rows:\n",
    "chunker = pd.read_csv(\"insurance.csv\",chunksize=10)\n",
    "type(chunker)"
   ]
  },
  {
   "cell_type": "code",
   "execution_count": 14,
   "id": "8000151c",
   "metadata": {},
   "outputs": [
    {
     "data": {
      "text/plain": [
       "sex\n",
       "female    662.0\n",
       "male      676.0\n",
       "dtype: float64"
      ]
     },
     "execution_count": 14,
     "metadata": {},
     "output_type": "execute_result"
    }
   ],
   "source": [
    "## The `TextFileReader` object returned by Pandas allows one to \n",
    "## iterate over the parts of the file according to the chunksize.\n",
    "## In the following example, it shows how to iterate over \n",
    "## the insurance.csv file for aggregating the value counts in the \n",
    "## \"sex\" column\n",
    "chunker = pd.read_csv(\"insurance.csv\",chunksize=100)\n",
    "total = pd.Series([], dtype='int64')\n",
    "for piece in chunker:\n",
    "    #print(piece[\"sex\"].value_counts())\n",
    "    total = total.add(piece[\"sex\"].value_counts(),fill_value=0)\n",
    "    #print(total)\n",
    "\n",
    "total = total.sort_values(ascending=True)\n",
    "\n",
    "total"
   ]
  },
  {
   "cell_type": "markdown",
   "id": "1a6c4209",
   "metadata": {},
   "source": [
    "### Writing data to text format\n",
    "\n",
    "Data can be exported to text files with a specified delimited format. Let's use the following file to demonstrate how to write files to CSV"
   ]
  },
  {
   "cell_type": "code",
   "execution_count": 15,
   "id": "348ba45f",
   "metadata": {},
   "outputs": [
    {
     "data": {
      "text/html": [
       "<div>\n",
       "<style scoped>\n",
       "    .dataframe tbody tr th:only-of-type {\n",
       "        vertical-align: middle;\n",
       "    }\n",
       "\n",
       "    .dataframe tbody tr th {\n",
       "        vertical-align: top;\n",
       "    }\n",
       "\n",
       "    .dataframe thead th {\n",
       "        text-align: right;\n",
       "    }\n",
       "</style>\n",
       "<table border=\"1\" class=\"dataframe\">\n",
       "  <thead>\n",
       "    <tr style=\"text-align: right;\">\n",
       "      <th></th>\n",
       "      <th>A B C</th>\n",
       "    </tr>\n",
       "  </thead>\n",
       "  <tbody>\n",
       "    <tr>\n",
       "      <th>0</th>\n",
       "      <td>aaa -0.264438 -1.026059 -0.619500</td>\n",
       "    </tr>\n",
       "    <tr>\n",
       "      <th>1</th>\n",
       "      <td>bbb 0.927272 0.302904 -0.032399</td>\n",
       "    </tr>\n",
       "    <tr>\n",
       "      <th>2</th>\n",
       "      <td>ccc -0.264273 -0.386314 -0.217601</td>\n",
       "    </tr>\n",
       "    <tr>\n",
       "      <th>3</th>\n",
       "      <td>ddd -0.871858 -0.348382 1.100491</td>\n",
       "    </tr>\n",
       "  </tbody>\n",
       "</table>\n",
       "</div>"
      ],
      "text/plain": [
       "                               A B C\n",
       "0  aaa -0.264438 -1.026059 -0.619500\n",
       "1    bbb 0.927272 0.302904 -0.032399\n",
       "2  ccc -0.264273 -0.386314 -0.217601\n",
       "3   ddd -0.871858 -0.348382 1.100491"
      ]
     },
     "execution_count": 15,
     "metadata": {},
     "output_type": "execute_result"
    }
   ],
   "source": [
    "data = pd.read_csv(\"ex4.txt\")\n",
    "data"
   ]
  },
  {
   "cell_type": "code",
   "execution_count": 16,
   "id": "ab7126b5",
   "metadata": {},
   "outputs": [],
   "source": [
    "# DataFrame's to_csv method can write the data to a comma-separated file.\n",
    "data.to_csv(\"ex4_comma.txt\",sep=\"|\")"
   ]
  },
  {
   "cell_type": "markdown",
   "id": "74aefb86",
   "metadata": {},
   "source": [
    "## JSON data\n",
    "JSON (JavaScript Object Notation) is a standard format for sending data by HTTP request between web browsers and other applications. Compring to txt files, JSON is much more freedom for representing the data."
   ]
  },
  {
   "cell_type": "code",
   "execution_count": 17,
   "id": "2bdb0581",
   "metadata": {},
   "outputs": [],
   "source": [
    "# The following is an example of JSON data\n",
    "\n",
    "json_data = \"\"\"\n",
    "\n",
    "{\"widget\": {\n",
    "    \"debug\": \"on\",\n",
    "    \"window\": {\n",
    "        \"title\": \"Sample Konfabulator Widget\",\n",
    "        \"name\": \"main_window\",\n",
    "        \"width\": 500,\n",
    "        \"height\": 500\n",
    "    },\n",
    "    \"image\": { \n",
    "        \"src\": \"Images/Sun.png\",\n",
    "        \"name\": \"sun1\",\n",
    "        \"hOffset\": 250,\n",
    "        \"vOffset\": 250,\n",
    "        \"alignment\": \"center\"\n",
    "    },\n",
    "    \"text\": {\n",
    "        \"data\": \"Click Here\",\n",
    "        \"size\": 36,\n",
    "        \"style\": \"bold\",\n",
    "        \"name\": \"text1\",\n",
    "        \"hOffset\": 250,\n",
    "        \"vOffset\": 100,\n",
    "        \"alignment\": \"center\",\n",
    "        \"onMouseUp\": \"sun1.opacity = (sun1.opacity / 100) * 90;\"\n",
    "    }\n",
    "}}    \n",
    "\"\"\""
   ]
  },
  {
   "cell_type": "code",
   "execution_count": 18,
   "id": "82f8e6b8",
   "metadata": {},
   "outputs": [],
   "source": [
    "import json"
   ]
  },
  {
   "cell_type": "code",
   "execution_count": 19,
   "id": "6ec03af2",
   "metadata": {},
   "outputs": [
    {
     "data": {
      "text/plain": [
       "{'widget': {'debug': 'on',\n",
       "  'window': {'title': 'Sample Konfabulator Widget',\n",
       "   'name': 'main_window',\n",
       "   'width': 500,\n",
       "   'height': 500},\n",
       "  'image': {'src': 'Images/Sun.png',\n",
       "   'name': 'sun1',\n",
       "   'hOffset': 250,\n",
       "   'vOffset': 250,\n",
       "   'alignment': 'center'},\n",
       "  'text': {'data': 'Click Here',\n",
       "   'size': 36,\n",
       "   'style': 'bold',\n",
       "   'name': 'text1',\n",
       "   'hOffset': 250,\n",
       "   'vOffset': 100,\n",
       "   'alignment': 'center',\n",
       "   'onMouseUp': 'sun1.opacity = (sun1.opacity / 100) * 90;'}}}"
      ]
     },
     "execution_count": 19,
     "metadata": {},
     "output_type": "execute_result"
    }
   ],
   "source": [
    "# the object json_data is a string that contains JSON data.\n",
    "# To convert it into a Python object, we can use the json.loads() method.\n",
    "result = json.loads(json_data)\n",
    "result"
   ]
  },
  {
   "cell_type": "code",
   "execution_count": 20,
   "id": "df019eba",
   "metadata": {},
   "outputs": [
    {
     "name": "stdout",
     "output_type": "stream",
     "text": [
      "{\n",
      "    \"widget\": {\n",
      "        \"debug\": \"on\",\n",
      "        \"window\": {\n",
      "            \"title\": \"Sample Konfabulator Widget\",\n",
      "            \"name\": \"main_window\",\n",
      "            \"width\": 500,\n",
      "            \"height\": 500\n",
      "        },\n",
      "        \"image\": {\n",
      "            \"src\": \"Images/Sun.png\",\n",
      "            \"name\": \"sun1\",\n",
      "            \"hOffset\": 250,\n",
      "            \"vOffset\": 250,\n",
      "            \"alignment\": \"center\"\n",
      "        },\n",
      "        \"text\": {\n",
      "            \"data\": \"Click Here\",\n",
      "            \"size\": 36,\n",
      "            \"style\": \"bold\",\n",
      "            \"name\": \"text1\",\n",
      "            \"hOffset\": 250,\n",
      "            \"vOffset\": 100,\n",
      "            \"alignment\": \"center\",\n",
      "            \"onMouseUp\": \"sun1.opacity = (sun1.opacity / 100) * 90;\"\n",
      "        }\n",
      "    }\n",
      "}\n"
     ]
    }
   ],
   "source": [
    "# json.dumps() can be used to convert a Python object into a JSON string.\n",
    "json_string = json.dumps(result, indent=4)\n",
    "print(json_string)"
   ]
  },
  {
   "cell_type": "code",
   "execution_count": 21,
   "id": "de4dfd73",
   "metadata": {},
   "outputs": [],
   "source": [
    "# We can also write the JSON data to a file\n",
    "with open(\"widget.json\", \"w\") as f:\n",
    "    json.dump(result, f, indent=4)"
   ]
  },
  {
   "cell_type": "code",
   "execution_count": 22,
   "id": "34ebabd2",
   "metadata": {},
   "outputs": [
    {
     "name": "stdout",
     "output_type": "stream",
     "text": [
      "{'widget': {'debug': 'on', 'window': {'title': 'Sample Konfabulator Widget', 'name': 'main_window', 'width': 500, 'height': 500}, 'image': {'src': 'Images/Sun.png', 'name': 'sun1', 'hOffset': 250, 'vOffset': 250, 'alignment': 'center'}, 'text': {'data': 'Click Here', 'size': 36, 'style': 'bold', 'name': 'text1', 'hOffset': 250, 'vOffset': 100, 'alignment': 'center', 'onMouseUp': 'sun1.opacity = (sun1.opacity / 100) * 90;'}}}\n"
     ]
    }
   ],
   "source": [
    "# We can also read the JSON data from a file\n",
    "with open(\"widget.json\", \"r\") as f:\n",
    "    result = json.load(f)\n",
    "    print(result)"
   ]
  },
  {
   "cell_type": "markdown",
   "id": "fec68817",
   "metadata": {},
   "source": [
    "## HTML Web Scraping\n",
    "Python has many libraries for reading and writing data in XML and HTML format. These libraries include lxml, Beautiful Soup, and html5lib.\n",
    "\n",
    "Pandas also has a built-in function, pandas.read_html, which uses all of these mentioned libraries to automatically parse tables from HTML files as DataFrame objcts.\n",
    "\n",
    "The following example demonstrate how to use Pandas to read tables from a website"
   ]
  },
  {
   "cell_type": "markdown",
   "id": "c7a7f44b",
   "metadata": {},
   "source": [
    "The following code is to find the tables given a website link"
   ]
  },
  {
   "cell_type": "code",
   "execution_count": 24,
   "id": "b11d50b7",
   "metadata": {},
   "outputs": [
    {
     "name": "stdout",
     "output_type": "stream",
     "text": [
      "54\n"
     ]
    }
   ],
   "source": [
    "import pandas as pd\n",
    "data_tables = pd.read_html('https://en.wikipedia.org/wiki/Demographics_of_the_United_Kingdom')\n",
    "print(len(data_tables))"
   ]
  },
  {
   "cell_type": "code",
   "execution_count": 26,
   "id": "1460584c",
   "metadata": {},
   "outputs": [
    {
     "data": {
      "text/html": [
       "<div>\n",
       "<style scoped>\n",
       "    .dataframe tbody tr th:only-of-type {\n",
       "        vertical-align: middle;\n",
       "    }\n",
       "\n",
       "    .dataframe tbody tr th {\n",
       "        vertical-align: top;\n",
       "    }\n",
       "\n",
       "    .dataframe thead th {\n",
       "        text-align: right;\n",
       "    }\n",
       "</style>\n",
       "<table border=\"1\" class=\"dataframe\">\n",
       "  <thead>\n",
       "    <tr style=\"text-align: right;\">\n",
       "      <th></th>\n",
       "      <th>Demographics of the United Kingdom</th>\n",
       "      <th>Demographics of the United Kingdom.1</th>\n",
       "    </tr>\n",
       "  </thead>\n",
       "  <tbody>\n",
       "    <tr>\n",
       "      <th>0</th>\n",
       "      <td>Population pyramid in 2021</td>\n",
       "      <td>Population pyramid in 2021</td>\n",
       "    </tr>\n",
       "    <tr>\n",
       "      <th>1</th>\n",
       "      <td>Population</td>\n",
       "      <td>67,596,281 (2022)[1]</td>\n",
       "    </tr>\n",
       "    <tr>\n",
       "      <th>2</th>\n",
       "      <td>Density</td>\n",
       "      <td>279/km2 (720/sq mi) (2022)[1]</td>\n",
       "    </tr>\n",
       "    <tr>\n",
       "      <th>3</th>\n",
       "      <td>Growth rate</td>\n",
       "      <td>0.85% (2022)[2]</td>\n",
       "    </tr>\n",
       "    <tr>\n",
       "      <th>4</th>\n",
       "      <td>Birth rate</td>\n",
       "      <td>10.3/1,000 population (2021)[3]</td>\n",
       "    </tr>\n",
       "    <tr>\n",
       "      <th>...</th>\n",
       "      <td>...</td>\n",
       "      <td>...</td>\n",
       "    </tr>\n",
       "    <tr>\n",
       "      <th>23</th>\n",
       "      <td>Major ethnic</td>\n",
       "      <td>White (83.05%)[a][6][7][8] British or Irish (7...</td>\n",
       "    </tr>\n",
       "    <tr>\n",
       "      <th>24</th>\n",
       "      <td>Minor ethnic</td>\n",
       "      <td>Asian (8.60%) Indian (2.88%) Pakistani (2.48%)...</td>\n",
       "    </tr>\n",
       "    <tr>\n",
       "      <th>25</th>\n",
       "      <td>Language</td>\n",
       "      <td>Language</td>\n",
       "    </tr>\n",
       "    <tr>\n",
       "      <th>26</th>\n",
       "      <td>Official</td>\n",
       "      <td>English</td>\n",
       "    </tr>\n",
       "    <tr>\n",
       "      <th>27</th>\n",
       "      <td>Spoken</td>\n",
       "      <td>Scots · Irish · Scottish Gaelic · Welsh · Corn...</td>\n",
       "    </tr>\n",
       "  </tbody>\n",
       "</table>\n",
       "<p>28 rows × 2 columns</p>\n",
       "</div>"
      ],
      "text/plain": [
       "   Demographics of the United Kingdom  \\\n",
       "0          Population pyramid in 2021   \n",
       "1                          Population   \n",
       "2                             Density   \n",
       "3                         Growth rate   \n",
       "4                          Birth rate   \n",
       "..                                ...   \n",
       "23                       Major ethnic   \n",
       "24                       Minor ethnic   \n",
       "25                           Language   \n",
       "26                           Official   \n",
       "27                             Spoken   \n",
       "\n",
       "                 Demographics of the United Kingdom.1  \n",
       "0                          Population pyramid in 2021  \n",
       "1                                67,596,281 (2022)[1]  \n",
       "2                       279/km2 (720/sq mi) (2022)[1]  \n",
       "3                                     0.85% (2022)[2]  \n",
       "4                     10.3/1,000 population (2021)[3]  \n",
       "..                                                ...  \n",
       "23  White (83.05%)[a][6][7][8] British or Irish (7...  \n",
       "24  Asian (8.60%) Indian (2.88%) Pakistani (2.48%)...  \n",
       "25                                           Language  \n",
       "26                                            English  \n",
       "27  Scots · Irish · Scottish Gaelic · Welsh · Corn...  \n",
       "\n",
       "[28 rows x 2 columns]"
      ]
     },
     "execution_count": 26,
     "metadata": {},
     "output_type": "execute_result"
    }
   ],
   "source": [
    "data_tables[0]  # Display the first table\n",
    "#data_tables[1]  # Display the second table"
   ]
  },
  {
   "cell_type": "code",
   "execution_count": 31,
   "id": "9b503945",
   "metadata": {},
   "outputs": [
    {
     "data": {
      "text/html": [
       "<div>\n",
       "<style scoped>\n",
       "    .dataframe tbody tr th:only-of-type {\n",
       "        vertical-align: middle;\n",
       "    }\n",
       "\n",
       "    .dataframe tbody tr th {\n",
       "        vertical-align: top;\n",
       "    }\n",
       "\n",
       "    .dataframe thead tr th {\n",
       "        text-align: left;\n",
       "    }\n",
       "</style>\n",
       "<table border=\"1\" class=\"dataframe\">\n",
       "  <thead>\n",
       "    <tr>\n",
       "      <th></th>\n",
       "      <th>Constituent country</th>\n",
       "      <th colspan=\"2\" halign=\"left\">Population (mid-2020)</th>\n",
       "      <th colspan=\"2\" halign=\"left\">Area</th>\n",
       "      <th>Population density (per km2 (per mi2))</th>\n",
       "    </tr>\n",
       "    <tr>\n",
       "      <th></th>\n",
       "      <th>Constituent country</th>\n",
       "      <th>Numbers[34]</th>\n",
       "      <th>% of UK</th>\n",
       "      <th>(km2 (mi2))[35]</th>\n",
       "      <th>% of UK</th>\n",
       "      <th>Population density (per km2 (per mi2))</th>\n",
       "    </tr>\n",
       "  </thead>\n",
       "  <tbody>\n",
       "    <tr>\n",
       "      <th>0</th>\n",
       "      <td>England</td>\n",
       "      <td>56550138</td>\n",
       "      <td>84.3%</td>\n",
       "      <td>130,309 (50,313)</td>\n",
       "      <td>53.7%</td>\n",
       "      <td>434 (1,124)</td>\n",
       "    </tr>\n",
       "    <tr>\n",
       "      <th>1</th>\n",
       "      <td>Scotland</td>\n",
       "      <td>5466000</td>\n",
       "      <td>8.2%</td>\n",
       "      <td>77,911 (30,082)</td>\n",
       "      <td>32.1%</td>\n",
       "      <td>70 (181)</td>\n",
       "    </tr>\n",
       "    <tr>\n",
       "      <th>2</th>\n",
       "      <td>Wales</td>\n",
       "      <td>3169586</td>\n",
       "      <td>4.7%</td>\n",
       "      <td>20,736 (8,006)</td>\n",
       "      <td>8.5%</td>\n",
       "      <td>153 (396)</td>\n",
       "    </tr>\n",
       "    <tr>\n",
       "      <th>3</th>\n",
       "      <td>Northern Ireland</td>\n",
       "      <td>1895510</td>\n",
       "      <td>2.8%</td>\n",
       "      <td>13,793 (5,326)</td>\n",
       "      <td>5.7%</td>\n",
       "      <td>137 (355)</td>\n",
       "    </tr>\n",
       "    <tr>\n",
       "      <th>4</th>\n",
       "      <td>United Kingdom</td>\n",
       "      <td>67081234</td>\n",
       "      <td>100%</td>\n",
       "      <td>242,749 (93,726)</td>\n",
       "      <td>100%</td>\n",
       "      <td>274 (710)</td>\n",
       "    </tr>\n",
       "  </tbody>\n",
       "</table>\n",
       "</div>"
      ],
      "text/plain": [
       "  Constituent country Population (mid-2020)                      Area          \\\n",
       "  Constituent country           Numbers[34] % of UK   (km2 (mi2))[35] % of UK   \n",
       "0             England              56550138   84.3%  130,309 (50,313)   53.7%   \n",
       "1            Scotland               5466000    8.2%   77,911 (30,082)   32.1%   \n",
       "2               Wales               3169586    4.7%    20,736 (8,006)    8.5%   \n",
       "3    Northern Ireland               1895510    2.8%    13,793 (5,326)    5.7%   \n",
       "4      United Kingdom              67081234    100%  242,749 (93,726)    100%   \n",
       "\n",
       "  Population density (per km2 (per mi2))  \n",
       "  Population density (per km2 (per mi2))  \n",
       "0                            434 (1,124)  \n",
       "1                               70 (181)  \n",
       "2                              153 (396)  \n",
       "3                              137 (355)  \n",
       "4                              274 (710)  "
      ]
     },
     "execution_count": 31,
     "metadata": {},
     "output_type": "execute_result"
    }
   ],
   "source": [
    "# We can find the the specific table from the webpage, by providing the table name\n",
    "pop_table = pd.read_html('https://en.wikipedia.org/wiki/Demographics_of_the_United_Kingdom', match='Population distribution across the UK')\n",
    "len(pop_table)  # Check how many tables were found\n",
    "pop_table[0]  # Display the table with population data"
   ]
  },
  {
   "cell_type": "markdown",
   "id": "82f17f1e",
   "metadata": {},
   "source": [
    "## Using HDF5 format\n",
    "HDF5 is a respected file format for storing large quantities of scientific array data. It is available as a C library, and it has interfaces available in many other languages, such as Java, Julia, Matlab, and Python. The \"HDF\" stands for hierarchical data format. Each HDF5 file can store multiple datasets and supporing metadata. Compared with simpler formats, HDF5 supports on-the-fly compression\n",
    "with a variety of compression modes, enabling data with repeated patterns to be stored more efficiently. HDF5 can be a good choice for working with datasets that don’t fit into memory, as you can efficiently read and write small sections of much larger arrays."
   ]
  },
  {
   "cell_type": "markdown",
   "id": "7e6086f6",
   "metadata": {},
   "source": [
    "To get started with HDF5 and pandas, you must first install PyTables by installing the tables package with conda:\n",
    "\n",
    "`conda install pytables`\n",
    "\n",
    "If using pip, it should be `pip install tables`, as PyTables package is called `tables` in PyPI"
   ]
  },
  {
   "cell_type": "markdown",
   "id": "1b03c0bd",
   "metadata": {},
   "source": [
    "While it’s possible to directly access HDF5 files using either the `PyTables` or `h5py` libraries, `pandas` provides a high-level interface that simplifies storing Series and DataFrame objects. The HDFStore class works like a dictionary and handles the\n",
    "low-level details:"
   ]
  },
  {
   "cell_type": "code",
   "execution_count": null,
   "id": "8e216068",
   "metadata": {},
   "outputs": [
    {
     "name": "stdout",
     "output_type": "stream",
     "text": [
      "<class 'pandas.io.pytables.HDFStore'>\n",
      "File path: mydata.h5\n",
      "\n"
     ]
    }
   ],
   "source": [
    "store = pd.HDFStore('mydata.h5')\n",
    "store['population'] = pop_table[0]  # Save the DataFrame to the HDF5 file\n",
    "print(store)\n",
    "store.close()  # Don't forget to close the store when done\n"
   ]
  },
  {
   "cell_type": "code",
   "execution_count": null,
   "id": "4bfbef8c",
   "metadata": {},
   "outputs": [
    {
     "name": "stdout",
     "output_type": "stream",
     "text": [
      "  Constituent country Population (mid-2020)                      Area          \\\n",
      "  Constituent country           Numbers[34] % of UK   (km2 (mi2))[35] % of UK   \n",
      "0             England              56550138   84.3%  130,309 (50,313)   53.7%   \n",
      "1            Scotland               5466000    8.2%   77,911 (30,082)   32.1%   \n",
      "2               Wales               3169586    4.7%    20,736 (8,006)    8.5%   \n",
      "3    Northern Ireland               1895510    2.8%    13,793 (5,326)    5.7%   \n",
      "4      United Kingdom              67081234    100%  242,749 (93,726)    100%   \n",
      "\n",
      "  Population density (per km2 (per mi2))  \n",
      "  Population density (per km2 (per mi2))  \n",
      "0                            434 (1,124)  \n",
      "1                               70 (181)  \n",
      "2                              153 (396)  \n",
      "3                              137 (355)  \n",
      "4                              274 (710)  \n"
     ]
    }
   ],
   "source": [
    "# load the data back from the HDF5 file\n",
    "store = pd.HDFStore('mydata.h5')\n",
    "print(store['population'])  # Display the stored DataFrame\n",
    "store.close()  # Close the store when done"
   ]
  },
  {
   "cell_type": "code",
   "execution_count": 37,
   "id": "fe8aafc4",
   "metadata": {},
   "outputs": [
    {
     "name": "stdout",
     "output_type": "stream",
     "text": [
      "  Constituent country Population (mid-2020)                      Area          \\\n",
      "  Constituent country           Numbers[34] % of UK   (km2 (mi2))[35] % of UK   \n",
      "0             England              56550138   84.3%  130,309 (50,313)   53.7%   \n",
      "1            Scotland               5466000    8.2%   77,911 (30,082)   32.1%   \n",
      "2               Wales               3169586    4.7%    20,736 (8,006)    8.5%   \n",
      "3    Northern Ireland               1895510    2.8%    13,793 (5,326)    5.7%   \n",
      "4      United Kingdom              67081234    100%  242,749 (93,726)    100%   \n",
      "\n",
      "  Population density (per km2 (per mi2))  \n",
      "  Population density (per km2 (per mi2))  \n",
      "0                            434 (1,124)  \n",
      "1                               70 (181)  \n",
      "2                              153 (396)  \n",
      "3                              137 (355)  \n",
      "4                              274 (710)  \n"
     ]
    }
   ],
   "source": [
    "# Pandas can also read and write HDF5 files directly.\n",
    "pop_table[0].to_hdf('population_data.h5', key='population', mode='w')\n",
    "loaded_data = pd.read_hdf('population_data.h5', key='population')\n",
    "print(loaded_data)  # Display the loaded DataFrame"
   ]
  },
  {
   "cell_type": "markdown",
   "id": "2e5e7b5c",
   "metadata": {},
   "source": [
    "## Interacting with Web APIs\n",
    "\n",
    "`Python Requests` is a powerful tool to send HTTP requests and interact with web resources.\n",
    "\n",
    "The package can send `GET, POST, PUT, DELETE, PATCH, HEAS` requests to web servers, handle responses, and work with REST APIs and web scraping tasks.\n",
    "\n",
    "-- GET: retrieve data from a server\n",
    "\n",
    "-- POST: send data to a server\n",
    "\n",
    "-- PUT: update existing data on a server\n",
    "\n",
    "-- DELETE: remove data from a server\n",
    "\n",
    "Prior to using `requests`, it must be installed with `pip` or `conda`:\n",
    "`conda install requests`"
   ]
  },
  {
   "cell_type": "code",
   "execution_count": 38,
   "id": "28bb5915",
   "metadata": {},
   "outputs": [],
   "source": [
    "import requests"
   ]
  },
  {
   "cell_type": "code",
   "execution_count": 47,
   "id": "b82380c1",
   "metadata": {},
   "outputs": [
    {
     "name": "stdout",
     "output_type": "stream",
     "text": [
      "None\n",
      "Request was successful!\n",
      "{\"current_user_url\":\"https://api.github.com/user\",\"current_user_authorizations_html_url\":\"https://github.com/settings/connections/applications{/client_id}\",\"authorizations_url\":\"https://api.github.com/authorizations\",\"code_search_url\":\"https://api.github.com/search/code?q={query}{&page,per_page,sort,order}\",\"commit_search_url\":\"https://api.github.com/search/commits?q={query}{&page,per_page,sort,order}\",\"emails_url\":\"https://api.github.com/user/emails\",\"emojis_url\":\"https://api.github.com/emojis\",\"events_url\":\"https://api.github.com/events\",\"feeds_url\":\"https://api.github.com/feeds\",\"followers_url\":\"https://api.github.com/user/followers\",\"following_url\":\"https://api.github.com/user/following{/target}\",\"gists_url\":\"https://api.github.com/gists{/gist_id}\",\"hub_url\":\"https://api.github.com/hub\",\"issue_search_url\":\"https://api.github.com/search/issues?q={query}{&page,per_page,sort,order}\",\"issues_url\":\"https://api.github.com/issues\",\"keys_url\":\"https://api.github.com/user/keys\",\"label_searc\n"
     ]
    }
   ],
   "source": [
    "# Making a GET request to a URL\n",
    "response = requests.get('https://api.github.com/')\n",
    "print(response.raise_for_status())  # Raise an error for bad responses\n",
    "# Check if the request was successful\n",
    "if response.status_code == 200:\n",
    "    print(\"Request was successful!\")\n",
    "    print(response.text[:1000])  # Print the first 500 characters of the response content\n",
    "else:\n",
    "    print(f\"Request failed with status code: {response.status_code}\")\n",
    "    print(\"Response content:\", response.content)    "
   ]
  },
  {
   "cell_type": "markdown",
   "id": "e46d00fb",
   "metadata": {},
   "source": [
    "The response object’s json method will return a Python object containing the parsed\n",
    "JSON data as a dictionary or list (depending on what JSON is returned)"
   ]
  },
  {
   "cell_type": "code",
   "execution_count": 48,
   "id": "9286d9c3",
   "metadata": {},
   "outputs": [
    {
     "name": "stdout",
     "output_type": "stream",
     "text": [
      "{'current_user_url': 'https://api.github.com/user', 'current_user_authorizations_html_url': 'https://github.com/settings/connections/applications{/client_id}', 'authorizations_url': 'https://api.github.com/authorizations', 'code_search_url': 'https://api.github.com/search/code?q={query}{&page,per_page,sort,order}', 'commit_search_url': 'https://api.github.com/search/commits?q={query}{&page,per_page,sort,order}', 'emails_url': 'https://api.github.com/user/emails', 'emojis_url': 'https://api.github.com/emojis', 'events_url': 'https://api.github.com/events', 'feeds_url': 'https://api.github.com/feeds', 'followers_url': 'https://api.github.com/user/followers', 'following_url': 'https://api.github.com/user/following{/target}', 'gists_url': 'https://api.github.com/gists{/gist_id}', 'hub_url': 'https://api.github.com/hub', 'issue_search_url': 'https://api.github.com/search/issues?q={query}{&page,per_page,sort,order}', 'issues_url': 'https://api.github.com/issues', 'keys_url': 'https://api.github.com/user/keys', 'label_search_url': 'https://api.github.com/search/labels?q={query}&repository_id={repository_id}{&page,per_page}', 'notifications_url': 'https://api.github.com/notifications', 'organization_url': 'https://api.github.com/orgs/{org}', 'organization_repositories_url': 'https://api.github.com/orgs/{org}/repos{?type,page,per_page,sort}', 'organization_teams_url': 'https://api.github.com/orgs/{org}/teams', 'public_gists_url': 'https://api.github.com/gists/public', 'rate_limit_url': 'https://api.github.com/rate_limit', 'repository_url': 'https://api.github.com/repos/{owner}/{repo}', 'repository_search_url': 'https://api.github.com/search/repositories?q={query}{&page,per_page,sort,order}', 'current_user_repositories_url': 'https://api.github.com/user/repos{?type,page,per_page,sort}', 'starred_url': 'https://api.github.com/user/starred{/owner}{/repo}', 'starred_gists_url': 'https://api.github.com/gists/starred', 'topic_search_url': 'https://api.github.com/search/topics?q={query}{&page,per_page}', 'user_url': 'https://api.github.com/users/{user}', 'user_organizations_url': 'https://api.github.com/user/orgs', 'user_repositories_url': 'https://api.github.com/users/{user}/repos{?type,page,per_page,sort}', 'user_search_url': 'https://api.github.com/search/users?q={query}{&page,per_page,sort,order}'}\n"
     ]
    }
   ],
   "source": [
    "try:\n",
    "\tresponse_data = response.json()  # Convert the response to JSON\n",
    "\tprint(response_data)  # Display the JSON data\n",
    "except ValueError as e:\n",
    "\tprint(\"Response does not contain valid JSON.\")\n",
    "\tprint(\"Response text:\", response.text[:500])  # Show first 500 chars for debugging\n",
    "\tprint(\"Error:\", e)"
   ]
  }
 ],
 "metadata": {
  "kernelspec": {
   "display_name": "data_eng",
   "language": "python",
   "name": "python3"
  },
  "language_info": {
   "codemirror_mode": {
    "name": "ipython",
    "version": 3
   },
   "file_extension": ".py",
   "mimetype": "text/x-python",
   "name": "python",
   "nbconvert_exporter": "python",
   "pygments_lexer": "ipython3",
   "version": "3.13.5"
  }
 },
 "nbformat": 4,
 "nbformat_minor": 5
}
